{
  "nbformat": 4,
  "nbformat_minor": 0,
  "metadata": {
    "colab": {
      "provenance": [],
      "authorship_tag": "ABX9TyN4x2tsPoiaHcq5kt5gxkhF",
      "include_colab_link": true
    },
    "kernelspec": {
      "name": "python3",
      "display_name": "Python 3"
    },
    "language_info": {
      "name": "python"
    }
  },
  "cells": [
    {
      "cell_type": "markdown",
      "metadata": {
        "id": "view-in-github",
        "colab_type": "text"
      },
      "source": [
        "<a href=\"https://colab.research.google.com/github/henriquejhas/codewars/blob/main/tribonacci.ipynb\" target=\"_parent\"><img src=\"https://colab.research.google.com/assets/colab-badge.svg\" alt=\"Open In Colab\"/></a>"
      ]
    },
    {
      "cell_type": "markdown",
      "source": [
        "Sequência tribonacci\n",
        "\n",
        "Kata 6k: Giacomo Sorbi"
      ],
      "metadata": {
        "id": "99Rgoh-A07xb"
      }
    },
    {
      "cell_type": "code",
      "execution_count": 10,
      "metadata": {
        "colab": {
          "base_uri": "https://localhost:8080/"
        },
        "id": "41qj35UQwTpC",
        "outputId": "8a67383b-5b2d-4974-d2ba-f48d2d245f8d"
      },
      "outputs": [
        {
          "output_type": "stream",
          "name": "stdout",
          "text": [
            "[0, 1, 1, 2, 4, 7, 13, 24, 44, 81]\n"
          ]
        }
      ],
      "source": [
        "def tribonacci(signature, n):\n",
        "    novo = 0\n",
        "    if (n <= 0): return []\n",
        "    if (signature == [1, 1, 1, ] and n == 1): return [1]\n",
        "\n",
        "    for y in range(n):\n",
        "        for x in signature[-3:]:\n",
        "            novo += x\n",
        "\n",
        "        signature.append(novo)\n",
        "        novo = 0\n",
        "\n",
        "    return signature[:n]\n",
        "\n",
        "print(tribonacci([0,1,1,], 10))"
      ]
    },
    {
      "cell_type": "code",
      "source": [
        "def tribonacci(signature, n):\n",
        "  res = signature[:n]\n",
        "  for i in range(n - 3): res.append(sum(res[-3:]))\n",
        "  return res"
      ],
      "metadata": {
        "id": "Jo7uOuKy4DmU"
      },
      "execution_count": null,
      "outputs": []
    },
    {
      "cell_type": "code",
      "source": [
        "def tribonacci(signature,n):\n",
        "    while len(signature) < n:\n",
        "        signature.append(sum(signature[-3:]))\n",
        "\n",
        "    return signature[:n]"
      ],
      "metadata": {
        "id": "RstWBLR44OEV"
      },
      "execution_count": null,
      "outputs": []
    }
  ]
}